{
 "cells": [
  {
   "cell_type": "code",
   "execution_count": 1,
   "metadata": {},
   "outputs": [],
   "source": [
    "%load_ext autoreload\n",
    "%autoreload 2"
   ]
  },
  {
   "cell_type": "code",
   "execution_count": 2,
   "metadata": {},
   "outputs": [],
   "source": [
    "import os, sys, math\n",
    "from tqdm.notebook import tqdm\n",
    "import copy\n",
    "\n",
    "import numpy as np\n",
    "import matplotlib.pyplot as plt\n",
    "\n",
    "import torch\n",
    "import torch.nn as nn\n",
    "\n",
    "from einops import rearrange, reduce, repeat"
   ]
  },
  {
   "cell_type": "code",
   "execution_count": 3,
   "metadata": {},
   "outputs": [],
   "source": [
    "import parser\n",
    "import transformer\n",
    "import longrange\n",
    "import dataset"
   ]
  },
  {
   "cell_type": "code",
   "execution_count": 23,
   "metadata": {},
   "outputs": [],
   "source": [
    "ids_book = parser.book2ids()"
   ]
  },
  {
   "cell_type": "code",
   "execution_count": 5,
   "metadata": {},
   "outputs": [
    {
     "data": {
      "application/vnd.jupyter.widget-view+json": {
       "model_id": "34b53b7fd01047019f2d46630202c54e",
       "version_major": 2,
       "version_minor": 0
      },
      "text/plain": [
       "  0%|          | 0/3037 [00:00<?, ?it/s]"
      ]
     },
     "metadata": {},
     "output_type": "display_data"
    }
   ],
   "source": [
    "ds_train, ds_test = dataset.create_dataset(tqdm=tqdm)"
   ]
  },
  {
   "cell_type": "code",
   "execution_count": 38,
   "metadata": {},
   "outputs": [
    {
     "data": {
      "application/vnd.jupyter.widget-view+json": {
       "model_id": "595f0407333e40f2a0a27ca0cf0afb2d",
       "version_major": 2,
       "version_minor": 0
      },
      "text/plain": [
       "  0%|          | 0/2428 [00:00<?, ?it/s]"
      ]
     },
     "metadata": {},
     "output_type": "display_data"
    },
    {
     "name": "stdout",
     "output_type": "stream",
     "text": [
      "torch.Size([948753124])\n"
     ]
    },
    {
     "data": {
      "image/png": "[encoded data removed]",
      "text/plain": [
       "<Figure size 432x288 with 1 Axes>"
      ]
     },
     "metadata": {
      "needs_background": "light"
     },
     "output_type": "display_data"
    }
   ],
   "source": [
    "ids_all = torch.cat([ids for book, ids in tqdm(ds_train.items())])\n",
    "print(ids_all.shape)\n",
    "count = ids_all.bincount(minlength=128)\n",
    "plt.plot(count)\n",
    "plt.yscale('log')"
   ]
  },
  {
   "cell_type": "code",
   "execution_count": null,
   "metadata": {},
   "outputs": [],
   "source": []
  },
  {
   "cell_type": "code",
   "execution_count": null,
   "metadata": {},
   "outputs": [],
   "source": []
  },
  {
   "cell_type": "code",
   "execution_count": null,
   "metadata": {},
   "outputs": [],
   "source": []
  },
  {
   "cell_type": "code",
   "execution_count": null,
   "metadata": {},
   "outputs": [],
   "source": []
  },
  {
   "cell_type": "code",
   "execution_count": null,
   "metadata": {},
   "outputs": [],
   "source": []
  },
  {
   "cell_type": "code",
   "execution_count": 18,
   "metadata": {},
   "outputs": [
    {
     "name": "stdout",
     "output_type": "stream",
     "text": [
      "torch.Size([32, 128]) torch.Size([32, 128])\n",
      "ox or two, and a few\n",
      "sheep; not much, my lords, but still a little food.\"\n",
      "\n",
      "\"It is good,\" said I. \"Infadoos; we are weary with tr|avelling through\n",
      "realms of air; now let us rest.\"\n",
      "\n",
      "Accordingly we entered the hut, which we found amply prepared for our\n",
      "comfort\n",
      "\n",
      "\n",
      "\n",
      "torch.Size([32, 128]) torch.Size([32, 128])\n",
      "he added, turning towards the door, \"we have barely a quarter of an\n",
      "hour to get to the Carlton. I dare not be late. The only per|son,\"\n",
      "she went on, as they passed through the outer office and Arnold\n",
      "paused for a moment to take down his hat and coat, \"whom I\n",
      "\n",
      "\n",
      "\n",
      "torch.Size([32, 128]) torch.Size([32, 128])\n",
      " pendulous cheeks, and a\n",
      "general air of superficial benevolence which was marred by a cruel,\n",
      "vicious mouth.\n",
      "\n",
      "\"There is surely so|me mistake here, gentlemen,\" he said in an unctuous,\n",
      "make-everything-easy voice.  \"I fancy that you have been misdirected.\n",
      "Possi\n",
      "\n",
      "\n",
      "\n",
      "torch.Size([32, 128]) torch.Size([32, 128])\n",
      "ast with the purple and gold.\n",
      "\n",
      "The interior of the tent was declared by Dame Gillian and others,\n",
      "whose curiosity induced them to| visit it, to be of a splendour\n",
      "agreeing with the outside. There were Oriental carpets, and there\n",
      "were tapestries of Ghent and B\n",
      "\n",
      "\n",
      "\n",
      "torch.Size([32, 128]) torch.Size([32, 128])\n",
      "upport of\n",
      "the soldiers. This is not mere theory: it is the patent lesson of the\n",
      "present condition of Russia. The Bolshevik theor|y is that a small\n",
      "minority are to seize power, and are to hold it until Communism is\n",
      "accepted practically universally, which, th\n",
      "\n",
      "\n",
      "\n",
      "torch.Size([32, 128]) torch.Size([32, 128])\n",
      "eads overhanging the darkness of the\n",
      "street, and the brilliantly lighted sala at their backs. This was a\n",
      "tete-a-tete of extreme |impropriety; something of which in the whole\n",
      "extent of the Republic only the extraordinary Antonia could be\n",
      "capable--the poor, m\n",
      "\n",
      "\n",
      "\n",
      "torch.Size([32, 128]) torch.Size([32, 128])\n",
      "oose the latter alternative.\n",
      "\n",
      "At first the words came halting. Her husband, man-like, had deserted\n",
      "her in her hour of utmost nee|d and was fumbling with the door-knob. The\n",
      "steely stare with which the Rev. Cracklethorpe regarded her, instead\n",
      "of chilling her,\n",
      "\n",
      "\n",
      "\n",
      "torch.Size([32, 128]) torch.Size([32, 128])\n",
      "elt in Iping any more. He\n",
      "vanished absolutely.\n",
      "\n",
      "But it was the best part of two hours before any human being\n",
      "ventured out again |into the desolation of Iping street.\n",
      "\n",
      "\n",
      "\n",
      "CHAPTER XIII\n",
      "\n",
      "MR. MARVEL DISCUSSES HIS RESIGNATION\n",
      "\n",
      "\n",
      "When the dusk was gathering and Ipi\n",
      "\n",
      "\n",
      "\n",
      "torch.Size([32, 128]) torch.Size([32, 128])\n",
      "hispering]  Ivy!  Here, quick!\n",
      "\n",
      "     [Ivy sways, darts off towards the voice, and is lost in the\n",
      "     shadow.]\n",
      "\n",
      "VOICE OF FREMAN.|  [Low]  Wait, boys, till I give signal.\n",
      "\n",
      "     [Two or three squirks and giggles; Tim CLYST'S voice: \"Ya-as!\n",
      "     Don't 'ee trea\n",
      "\n",
      "\n",
      "\n",
      "torch.Size([32, 128]) torch.Size([32, 128])\n",
      " talk\n",
      "slowly. Dolly was a good little lad, quite uninteresting and ordinary,\n",
      "but he flourished here, and went through his daily |duties and pleasures\n",
      "with placid content and propriety.\n",
      "\n",
      "Dick Brown's affliction was a crooked back, yet he bore his burden so\n",
      "c\n",
      "\n",
      "\n",
      "\n"
     ]
    }
   ],
   "source": [
    "for a, b in dataset.get_random_skip_batches(ds_train, 10, 32, 128, 0, 1):\n",
    "    print(a.shape, b.shape)\n",
    "    print(parser.ids2text(a[0]) +'|'+ parser.ids2text(b[0]))\n",
    "    print('\\n\\n')"
   ]
  },
  {
   "cell_type": "code",
   "execution_count": 90,
   "metadata": {},
   "outputs": [
    {
     "name": "stdout",
     "output_type": "stream",
     "text": [
      "{'n_vocab': 128, 'max_context_length': None, 'embd_pdrop': 0.1, 'resid_pdrop': 0.1, 'attn_pdrop': 0.1, 'n_layer': 3, 'n_head': 3, 'n_embd': 48, 'n_latent_tokens': None}\n"
     ]
    }
   ],
   "source": [
    "# config = transformer.get_config('gpt-nano', n_latent_tokens=30)\n",
    "config = transformer.get_config('gpt-nano')\n",
    "print(config)\n",
    "net = transformer.GPT(config)"
   ]
  },
  {
   "cell_type": "code",
   "execution_count": 104,
   "metadata": {},
   "outputs": [],
   "source": [
    "import train"
   ]
  },
  {
   "cell_type": "code",
   "execution_count": 119,
   "metadata": {},
   "outputs": [
    {
     "data": {
      "application/vnd.jupyter.widget-view+json": {
       "model_id": "1fe035490b924cbcaa6f596958808774",
       "version_major": 2,
       "version_minor": 0
      },
      "text/plain": [
       "  0%|          | 0/1000 [00:00<?, ?it/s]"
      ]
     },
     "metadata": {},
     "output_type": "display_data"
    },
    {
     "ename": "KeyboardInterrupt",
     "evalue": "",
     "output_type": "error",
     "traceback": [
      "\u001b[0;31m---------------------------------------------------------------------------\u001b[0m",
      "\u001b[0;31mKeyboardInterrupt\u001b[0m                         Traceback (most recent call last)",
      "\u001b[0;32m/var/folders/pw/m6gcpl8j3nn4yk4y5wt7_9rh0000gn/T/ipykernel_11378/3007597789.py\u001b[0m in \u001b[0;36m<module>\u001b[0;34m\u001b[0m\n\u001b[0;32m----> 1\u001b[0;31m \u001b[0mtrain\u001b[0m\u001b[0;34m.\u001b[0m\u001b[0mtrain_transformer\u001b[0m\u001b[0;34m(\u001b[0m\u001b[0mds_train\u001b[0m\u001b[0;34m,\u001b[0m \u001b[0mnet\u001b[0m\u001b[0;34m,\u001b[0m \u001b[0mn_batches\u001b[0m\u001b[0;34m=\u001b[0m\u001b[0;36m1000\u001b[0m\u001b[0;34m,\u001b[0m \u001b[0mbatch_size\u001b[0m\u001b[0;34m=\u001b[0m\u001b[0;36m32\u001b[0m\u001b[0;34m,\u001b[0m \u001b[0mseq_len\u001b[0m\u001b[0;34m=\u001b[0m\u001b[0;36m100\u001b[0m\u001b[0;34m,\u001b[0m \u001b[0mdevice\u001b[0m\u001b[0;34m=\u001b[0m\u001b[0;34m'cpu'\u001b[0m\u001b[0;34m,\u001b[0m \u001b[0mtqdm\u001b[0m\u001b[0;34m=\u001b[0m\u001b[0mtqdm\u001b[0m\u001b[0;34m)\u001b[0m\u001b[0;34m\u001b[0m\u001b[0;34m\u001b[0m\u001b[0m\n\u001b[0m",
      "\u001b[0;32m~/transformer-memory/skip/train.py\u001b[0m in \u001b[0;36mtrain_transformer\u001b[0;34m(ds, net, n_batches, batch_size, seq_len, lr, device, tqdm)\u001b[0m\n\u001b[1;32m     20\u001b[0m         \u001b[0mbatch\u001b[0m \u001b[0;34m=\u001b[0m \u001b[0mbatch\u001b[0m\u001b[0;34m.\u001b[0m\u001b[0mto\u001b[0m\u001b[0;34m(\u001b[0m\u001b[0mdevice\u001b[0m\u001b[0;34m)\u001b[0m\u001b[0;34m\u001b[0m\u001b[0;34m\u001b[0m\u001b[0m\n\u001b[1;32m     21\u001b[0m \u001b[0;34m\u001b[0m\u001b[0m\n\u001b[0;32m---> 22\u001b[0;31m         \u001b[0mloss\u001b[0m \u001b[0;34m=\u001b[0m \u001b[0mtransformer\u001b[0m\u001b[0;34m.\u001b[0m\u001b[0mloss_fn\u001b[0m\u001b[0;34m(\u001b[0m\u001b[0mnet\u001b[0m\u001b[0;34m,\u001b[0m \u001b[0mbatch\u001b[0m\u001b[0;34m)\u001b[0m\u001b[0;34m\u001b[0m\u001b[0;34m\u001b[0m\u001b[0m\n\u001b[0m\u001b[1;32m     23\u001b[0m         \u001b[0mopt\u001b[0m\u001b[0;34m.\u001b[0m\u001b[0mzero_grad\u001b[0m\u001b[0;34m(\u001b[0m\u001b[0;34m)\u001b[0m\u001b[0;34m\u001b[0m\u001b[0;34m\u001b[0m\u001b[0m\n\u001b[1;32m     24\u001b[0m         \u001b[0mloss\u001b[0m\u001b[0;34m.\u001b[0m\u001b[0mbackward\u001b[0m\u001b[0;34m(\u001b[0m\u001b[0;34m)\u001b[0m\u001b[0;34m\u001b[0m\u001b[0;34m\u001b[0m\u001b[0m\n",
      "\u001b[0;32m~/transformer-memory/skip/transformer.py\u001b[0m in \u001b[0;36mloss_fn\u001b[0;34m(net, ids)\u001b[0m\n\u001b[1;32m    141\u001b[0m \u001b[0;32mdef\u001b[0m \u001b[0mloss_fn\u001b[0m\u001b[0;34m(\u001b[0m\u001b[0mnet\u001b[0m\u001b[0;34m,\u001b[0m \u001b[0mids\u001b[0m\u001b[0;34m)\u001b[0m\u001b[0;34m:\u001b[0m\u001b[0;34m\u001b[0m\u001b[0;34m\u001b[0m\u001b[0m\n\u001b[1;32m    142\u001b[0m     \u001b[0minputs\u001b[0m\u001b[0;34m,\u001b[0m \u001b[0mtargets\u001b[0m \u001b[0;34m=\u001b[0m \u001b[0mids\u001b[0m\u001b[0;34m[\u001b[0m\u001b[0;34m...\u001b[0m\u001b[0;34m,\u001b[0m \u001b[0;34m:\u001b[0m\u001b[0;34m-\u001b[0m\u001b[0;36m1\u001b[0m\u001b[0;34m]\u001b[0m\u001b[0;34m,\u001b[0m \u001b[0mids\u001b[0m\u001b[0;34m[\u001b[0m\u001b[0;34m...\u001b[0m\u001b[0;34m,\u001b[0m \u001b[0;36m1\u001b[0m\u001b[0;34m:\u001b[0m\u001b[0;34m]\u001b[0m  \u001b[0;31m# ..., context_length-1\u001b[0m\u001b[0;34m\u001b[0m\u001b[0;34m\u001b[0m\u001b[0m\n\u001b[0;32m--> 143\u001b[0;31m     \u001b[0mlogits\u001b[0m \u001b[0;34m=\u001b[0m \u001b[0mnet\u001b[0m\u001b[0;34m(\u001b[0m\u001b[0minputs\u001b[0m\u001b[0;34m)\u001b[0m  \u001b[0;31m# -1, context_length-1, n_vocab\u001b[0m\u001b[0;34m\u001b[0m\u001b[0;34m\u001b[0m\u001b[0m\n\u001b[0m\u001b[1;32m    144\u001b[0m     \u001b[0mloss\u001b[0m \u001b[0;34m=\u001b[0m \u001b[0mfn_cross_entropy\u001b[0m\u001b[0;34m(\u001b[0m\u001b[0mlogits\u001b[0m\u001b[0;34m.\u001b[0m\u001b[0mreshape\u001b[0m\u001b[0;34m(\u001b[0m\u001b[0;34m-\u001b[0m\u001b[0;36m1\u001b[0m\u001b[0;34m,\u001b[0m \u001b[0mlogits\u001b[0m\u001b[0;34m.\u001b[0m\u001b[0msize\u001b[0m\u001b[0;34m(\u001b[0m\u001b[0;34m-\u001b[0m\u001b[0;36m1\u001b[0m\u001b[0;34m)\u001b[0m\u001b[0;34m)\u001b[0m\u001b[0;34m,\u001b[0m \u001b[0mtargets\u001b[0m\u001b[0;34m.\u001b[0m\u001b[0mreshape\u001b[0m\u001b[0;34m(\u001b[0m\u001b[0;34m-\u001b[0m\u001b[0;36m1\u001b[0m\u001b[0;34m)\u001b[0m\u001b[0;34m)\u001b[0m\u001b[0;34m\u001b[0m\u001b[0;34m\u001b[0m\u001b[0m\n\u001b[1;32m    145\u001b[0m     \u001b[0;32mreturn\u001b[0m \u001b[0mloss\u001b[0m\u001b[0;34m\u001b[0m\u001b[0;34m\u001b[0m\u001b[0m\n",
      "\u001b[0;32m~/miniconda3/lib/python3.9/site-packages/torch/nn/modules/module.py\u001b[0m in \u001b[0;36m_call_impl\u001b[0;34m(self, *input, **kwargs)\u001b[0m\n\u001b[1;32m   1100\u001b[0m         if not (self._backward_hooks or self._forward_hooks or self._forward_pre_hooks or _global_backward_hooks\n\u001b[1;32m   1101\u001b[0m                 or _global_forward_hooks or _global_forward_pre_hooks):\n\u001b[0;32m-> 1102\u001b[0;31m             \u001b[0;32mreturn\u001b[0m \u001b[0mforward_call\u001b[0m\u001b[0;34m(\u001b[0m\u001b[0;34m*\u001b[0m\u001b[0minput\u001b[0m\u001b[0;34m,\u001b[0m \u001b[0;34m**\u001b[0m\u001b[0mkwargs\u001b[0m\u001b[0;34m)\u001b[0m\u001b[0;34m\u001b[0m\u001b[0;34m\u001b[0m\u001b[0m\n\u001b[0m\u001b[1;32m   1103\u001b[0m         \u001b[0;31m# Do not call functions when jit is used\u001b[0m\u001b[0;34m\u001b[0m\u001b[0;34m\u001b[0m\u001b[0;34m\u001b[0m\u001b[0m\n\u001b[1;32m   1104\u001b[0m         \u001b[0mfull_backward_hooks\u001b[0m\u001b[0;34m,\u001b[0m \u001b[0mnon_full_backward_hooks\u001b[0m \u001b[0;34m=\u001b[0m \u001b[0;34m[\u001b[0m\u001b[0;34m]\u001b[0m\u001b[0;34m,\u001b[0m \u001b[0;34m[\u001b[0m\u001b[0;34m]\u001b[0m\u001b[0;34m\u001b[0m\u001b[0;34m\u001b[0m\u001b[0m\n",
      "\u001b[0;32m~/transformer-memory/skip/transformer.py\u001b[0m in \u001b[0;36mforward\u001b[0;34m(self, ids)\u001b[0m\n\u001b[1;32m    111\u001b[0m         \u001b[0;32massert\u001b[0m \u001b[0mmcl\u001b[0m \u001b[0;32mis\u001b[0m \u001b[0;32mNone\u001b[0m \u001b[0;32mor\u001b[0m \u001b[0mcontext_length\u001b[0m \u001b[0;34m<=\u001b[0m \u001b[0mmcl\u001b[0m\u001b[0;34m\u001b[0m\u001b[0;34m\u001b[0m\u001b[0m\n\u001b[1;32m    112\u001b[0m \u001b[0;34m\u001b[0m\u001b[0m\n\u001b[0;32m--> 113\u001b[0;31m         \u001b[0mpos\u001b[0m \u001b[0;34m=\u001b[0m \u001b[0mtorch\u001b[0m\u001b[0;34m.\u001b[0m\u001b[0marange\u001b[0m\u001b[0;34m(\u001b[0m\u001b[0;36m0\u001b[0m\u001b[0;34m,\u001b[0m \u001b[0mcontext_length\u001b[0m\u001b[0;34m,\u001b[0m \u001b[0mdtype\u001b[0m\u001b[0;34m=\u001b[0m\u001b[0mtorch\u001b[0m\u001b[0;34m.\u001b[0m\u001b[0mlong\u001b[0m\u001b[0;34m,\u001b[0m \u001b[0mdevice\u001b[0m\u001b[0;34m=\u001b[0m\u001b[0mdevice\u001b[0m\u001b[0;34m)\u001b[0m\u001b[0;34m[\u001b[0m\u001b[0;32mNone\u001b[0m\u001b[0;34m]\u001b[0m\u001b[0;34m\u001b[0m\u001b[0;34m\u001b[0m\u001b[0m\n\u001b[0m\u001b[1;32m    114\u001b[0m         \u001b[0;31m# shape (1, t)\u001b[0m\u001b[0;34m\u001b[0m\u001b[0;34m\u001b[0m\u001b[0;34m\u001b[0m\u001b[0m\n\u001b[1;32m    115\u001b[0m \u001b[0;34m\u001b[0m\u001b[0m\n",
      "\u001b[0;31mKeyboardInterrupt\u001b[0m: "
     ]
    }
   ],
   "source": [
    "train.train_transformer(ds_train, net, n_batches=1000, batch_size=32, seq_len=100, device='cpu', tqdm=tqdm)"
   ]
  },
  {
   "cell_type": "code",
   "execution_count": null,
   "metadata": {},
   "outputs": [],
   "source": []
  },
  {
   "cell_type": "code",
   "execution_count": null,
   "metadata": {},
   "outputs": [],
   "source": []
  },
  {
   "cell_type": "code",
   "execution_count": null,
   "metadata": {},
   "outputs": [],
   "source": []
  },
  {
   "cell_type": "code",
   "execution_count": 135,
   "metadata": {},
   "outputs": [
    {
     "name": "stdout",
     "output_type": "stream",
     "text": [
      "{'n_vocab': 128, 'max_context_length': None, 'embd_pdrop': 0.1, 'resid_pdrop': 0.1, 'attn_pdrop': 0.1, 'n_layer': 3, 'n_head': 3, 'n_embd': 48, 'n_latent_tokens': 30}\n",
      "torch.Size([32, 100, 48])\n",
      "torch.Size([32, 30, 48])\n",
      "torch.Size([32, 30, 48])\n",
      "torch.Size([32, 30, 48])\n",
      "torch.Size([32, 30, 128])\n"
     ]
    }
   ],
   "source": [
    "config = transformer.get_config('gpt-nano', n_latent_tokens=30)\n",
    "# config = transformer.get_config('gpt-nano')\n",
    "print(config)\n",
    "net = transformer.GPT(config)\n",
    "\n",
    "\n",
    "batch = torch.randint(0, 128, (32, 100))\n",
    "net(batch);"
   ]
  },
  {
   "cell_type": "code",
   "execution_count": null,
   "metadata": {},
   "outputs": [],
   "source": []
  },
  {
   "cell_type": "code",
   "execution_count": null,
   "metadata": {},
   "outputs": [],
   "source": []
  },
  {
   "cell_type": "code",
   "execution_count": 18,
   "metadata": {},
   "outputs": [
    {
     "data": {
      "text/plain": [
       "torch.Size([1, 100, 128])"
      ]
     },
     "execution_count": 18,
     "metadata": {},
     "output_type": "execute_result"
    }
   ],
   "source": [
    "net(ids_book[None, :100]).shape"
   ]
  },
  {
   "cell_type": "code",
   "execution_count": 19,
   "metadata": {},
   "outputs": [
    {
     "data": {
      "text/plain": [
       "'Agatha Christie - Murder Of Roger Ackroyd \\n\\nBook Jacket \\n\\nNone \\n\\n\\n\\nAgatha Christie - The Murder Of R.\\x05NpKz\\x15\\x05N43kd\\x1f\\x153k\"z\\x15\\tZ\\x1fPz\\x153(3(Pz\\x7f\\x058Pz\\x1d\\x153k\"Wd\\x1f\\x15\\x05NW\\x178Pk_37.\\x05NpKz\\x15\\t~38zppR.\\x05.\\x05NpKz\\x1d\\x1d*9U#\\x1d*\\x05.\\x05.\\x05.\\x05.*9]\\x06\"'"
      ]
     },
     "execution_count": 19,
     "metadata": {},
     "output_type": "execute_result"
    }
   ],
   "source": [
    "a = transformer.generate(net, ids_book[None, :100], 100)\n",
    "parser.ids2text(a[0])"
   ]
  },
  {
   "cell_type": "code",
   "execution_count": 8,
   "metadata": {},
   "outputs": [
    {
     "name": "stdout",
     "output_type": "stream",
     "text": [
      "{'n_vocab': 128, 'max_context_length': None, 'embd_pdrop': 0.1, 'resid_pdrop': 0.1, 'attn_pdrop': 0.1, 'n_layer': 3, 'n_head': 3, 'n_embd': 48, 'n_latent_tokens': None}\n"
     ]
    }
   ],
   "source": [
    "# config = transformer.get_config('gpt-nano', n_latent_tokens=30)\n",
    "config = transformer.get_config('gpt-nano')\n",
    "print(config)\n",
    "net = longrange.LongRangeGPT(config)"
   ]
  },
  {
   "cell_type": "code",
   "execution_count": 9,
   "metadata": {},
   "outputs": [
    {
     "data": {
      "text/plain": [
       "(torch.Size([1, 100, 128]),\n",
       " torch.Size([1, 100, 128]),\n",
       " torch.Size([1, 100, 48]),\n",
       " None)"
      ]
     },
     "execution_count": 9,
     "metadata": {},
     "output_type": "execute_result"
    }
   ],
   "source": [
    "logits1, lro1 = net.forward(ids_book[None, :100], calc_long_range_output=True)\n",
    "logits2, lro2 = net.forward(ids_book[None, 200:300], long_range_input=lro1)\n",
    "logits1.shape, logits2.shape, lro1.shape, lro2"
   ]
  },
  {
   "cell_type": "code",
   "execution_count": null,
   "metadata": {},
   "outputs": [],
   "source": [
    "config = transformer.get_config('gpt-nano')\n",
    "print(config)\n",
    "net = longrange.LongRangeGPT(config)\n",
    "train_longrange(net, ds_train, 1000)"
   ]
  },
  {
   "cell_type": "code",
   "execution_count": 36,
   "metadata": {},
   "outputs": [
    {
     "name": "stdout",
     "output_type": "stream",
     "text": [
      "['\\n\\nHe pointed to a pub up a side street, and went in with Kumbo holding on\\nto his arm.  The barman wa']\n",
      "\n",
      "['t.\"\\n\\nLame Katy felt as if \"a truly angel\" was embracing her, and could only\\nstammer out her thanks, ']\n",
      "['their gifts for her to see and admire.\\n\\nMamma leaned down and whispered one word to the older girls;']\n"
     ]
    }
   ],
   "source": [
    "batch = next(dataset.get_random_batches(ds_train, 1, 1, 100))\n",
    "print(parser.ids2text(batch))\n",
    "print()\n",
    "batch0, batch1 = next(dataset.get_random_skip_batches(ds_train, 1, 1, 100, 100, 200))\n",
    "\n",
    "print(parser.ids2text(batch0))\n",
    "print(parser.ids2text(batch1))"
   ]
  },
  {
   "cell_type": "code",
   "execution_count": null,
   "metadata": {},
   "outputs": [],
   "source": []
  },
  {
   "cell_type": "code",
   "execution_count": null,
   "metadata": {},
   "outputs": [],
   "source": []
  },
  {
   "cell_type": "code",
   "execution_count": 37,
   "metadata": {},
   "outputs": [],
   "source": []
  },
  {
   "cell_type": "code",
   "execution_count": null,
   "metadata": {},
   "outputs": [],
   "source": []
  },
  {
   "cell_type": "code",
   "execution_count": null,
   "metadata": {},
   "outputs": [],
   "source": []
  },
  {
   "cell_type": "code",
   "execution_count": null,
   "metadata": {},
   "outputs": [],
   "source": []
  },
  {
   "cell_type": "code",
   "execution_count": null,
   "metadata": {},
   "outputs": [],
   "source": []
  },
  {
   "cell_type": "code",
   "execution_count": null,
   "metadata": {},
   "outputs": [],
   "source": []
  }
 ],
 "metadata": {
  "kernelspec": {
   "display_name": "Python 3.9.5 ('base')",
   "language": "python",
   "name": "python3"
  },
  "language_info": {
   "codemirror_mode": {
    "name": "ipython",
    "version": 3
   },
   "file_extension": ".py",
   "mimetype": "text/x-python",
   "name": "python",
   "nbconvert_exporter": "python",
   "pygments_lexer": "ipython3",
   "version": "3.9.5"
  },
  "orig_nbformat": 4,
  "vscode": {
   "interpreter": {
    "hash": "5c0f82f405bdadcaaf9b012da8df3d37d37bedbc208e00b69ff4fe0290862ad1"
   }
  }
 },
 "nbformat": 4,
 "nbformat_minor": 2
}
