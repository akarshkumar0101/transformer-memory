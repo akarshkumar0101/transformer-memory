{
 "cells": [
  {
   "cell_type": "code",
   "execution_count": 1,
   "id": "2e2d122c-c562-4118-862e-c646e46bc62e",
   "metadata": {},
   "outputs": [],
   "source": [
    "%load_ext autoreload\n",
    "%autoreload 2"
   ]
  },
  {
   "cell_type": "code",
   "execution_count": 2,
   "id": "8ecfe3fb-741c-4051-9991-12228db9583f",
   "metadata": {},
   "outputs": [],
   "source": [
    "import os, sys, math\n",
    "from tqdm.notebook import tqdm\n",
    "import copy\n",
    "\n",
    "import csv\n",
    "import re\n",
    "\n",
    "import numpy as np\n",
    "import matplotlib.pyplot as plt\n",
    "\n",
    "import torch\n",
    "import torch.nn as nn\n",
    "\n",
    "from einops import rearrange, reduce, repeat"
   ]
  },
  {
   "cell_type": "code",
   "execution_count": 3,
   "id": "6d9308de-0f53-43d7-a466-e465a02d8b1b",
   "metadata": {},
   "outputs": [],
   "source": [
    "import parser\n",
    "import transformer\n",
    "import longrange\n",
    "import dataset\n",
    "import train\n",
    "import util"
   ]
  },
  {
   "cell_type": "code",
   "execution_count": null,
   "id": "547ddc05-ecca-4758-8691-09450d537e73",
   "metadata": {},
   "outputs": [],
   "source": []
  },
  {
   "cell_type": "code",
   "execution_count": 42,
   "id": "e26ab0fc-7e31-4460-b25b-092e9e7f0829",
   "metadata": {},
   "outputs": [
    {
     "data": {
      "text/plain": [
       "<matplotlib.colorbar.Colorbar at 0x7f8357d608e0>"
      ]
     },
     "execution_count": 42,
     "metadata": {},
     "output_type": "execute_result"
    },
    {
     "data": {
      "image/png": "[encoded data removed]",
      "text/plain": [
       "<Figure size 640x480 with 4 Axes>"
      ]
     },
     "metadata": {},
     "output_type": "display_data"
    }
   ],
   "source": [
    "\"\"\"\n",
    "Original Implementation by me for self attention\n",
    "\"\"\"\n",
    "# def get_alibi_mat(seq_len=10, n_heads=10, dtype=torch.float, device='cpu'):\n",
    "#     a = torch.stack([torch.arange(i, i+seq_len, dtype=dtype, device=device) for i in range(0, -seq_len, -1)])\n",
    "#     m = 2.**(-8./n_heads)\n",
    "#     # m = 1.\n",
    "#     m = m**torch.arange(1, n_heads+1, dtype=dtype, device=device)\n",
    "#     a = m[:, None, None]*a\n",
    "#     return a\n",
    "\n",
    "\"\"\"\n",
    "for self-attn, cross-attn, etc.\n",
    "\n",
    "if attn_type is 'self':\n",
    "    self attn pattern\n",
    "elif attn_type is 'zero':\n",
    "    all zeros\n",
    "elif attn_type is 'self-memory':\n",
    "    two self attn patterns (concated)\n",
    "    \n",
    "attn_type should be either self, selfcross, or cross\n",
    "\"\"\"\n",
    "def get_alibi_mat(seq_len_in=10, seq_len_out=10, attn_type='self', alibi=True, n_heads=10, dtype=torch.float, device='cpu'):\n",
    "    assert seq_len_in >= seq_len_out\n",
    "    \n",
    "    # perceiver attn\n",
    "    # regular n*n self attn\n",
    "    # full cross attn\n",
    "    # doublecausal attn\n",
    "    if attn_type=='perceiver':\n",
    "        a = torch.ones(seq_len_out, seq_len_in)-torch.eye(seq_len_out, seq_len_in)\n",
    "        a = -torch.tril(a).cumsum(dim=-2)\n",
    "        mask = torch.tril(torch.ones(seq_len_out, seq_len_in, dtype=bool, device=device), diagonal=seq_len_in-seq_len_out)\n",
    "    elif attn_type=='zero':\n",
    "        a = torch.zeros(seq_len_out, seq_len_in, dtype=dtype, device=device)\n",
    "        mask = torch.ones(seq_len_out, seq_len_in, dtype=bool, device=device)\n",
    "    elif attn_type=='self':\n",
    "        a = torch.ones(seq_len_out, seq_len_in)-torch.eye(seq_len_out, seq_len_in)\n",
    "        # a = -torch.tril(a).cumsum(dim=-2)-torch.triu(a).cumsum(dim=-1)\n",
    "        a = -torch.tril(a).cumsum(dim=-2)\n",
    "        mask = torch.tril(torch.ones(seq_len_out, seq_len_in, dtype=bool, device=device), diagonal=0)\n",
    "    elif attn_type=='self-memory':\n",
    "        a = torch.ones(seq_len_out, seq_len_in)-torch.eye(seq_len_out, seq_len_in)\n",
    "        # a = -torch.tril(a).cumsum(dim=-2)-torch.triu(a).cumsum(dim=-1)\n",
    "        a = -torch.tril(a).cumsum(dim=-2)\n",
    "        a[:, seq_len_out:] = a[:, [0]]-1\n",
    "        mask1 = torch.tril(torch.ones(seq_len_out, seq_len_out, dtype=bool, device=device), diagonal=0)\n",
    "        mask2 = torch.ones(seq_len_out, seq_len_in-seq_len_out, dtype=bool, device=device)\n",
    "        mask = torch.cat([mask1, mask2], dim=-1)\n",
    "    else:\n",
    "        raise NotImplementedError(f'{attn_type} not implemented')\n",
    "        # a = torch.ones(seq_len_out, seq_len_in)-torch.eye(seq_len_out, seq_len_in)\n",
    "        # # a = -torch.tril(a).cumsum(dim=-2)-torch.triu(a).cumsum(dim=-1)\n",
    "        # a = -torch.tril(a).cumsum(dim=-2)\n",
    "        \n",
    "    # a = a-torch.inf*~mask\n",
    "    # a.masked_fill_(~mask, -torch.inf)\n",
    "    \n",
    "    m = 2.**(-8./n_heads)\n",
    "    # m = 1.\n",
    "    m = m**torch.arange(1, n_heads+1, dtype=dtype, device=device)\n",
    "    # a = m[:, None, None]*a\n",
    "    return a, mask\n",
    "\n",
    "def get_mask(attn, alibi=None, mask='full'):\n",
    "    _, bs, nx, ny = attn.shape # output, input\n",
    "    if mask == 'full':\n",
    "        mask = torch.ones(bs, nx, ny, dtype=bool, device=attn.device)\n",
    "    if mask == 'causal':\n",
    "        mask = ~torch.tril(torch.ones(nx, ny, dtype=bool, device=attn.device), diagonal=ny-nx)\n",
    "    if mask == 'doublecausal':\n",
    "        # cross attention but don't attend to stuff ahead in the other seq\n",
    "        ny = nx\n",
    "        mask = ~torch.tril(torch.ones(nx, ny, dtype=bool, device=attn.device), diagonal=ny-nx)\n",
    "        mask = torch.cat([mask, mask], dim=-1)\n",
    "\n",
    "# plt.imshow(get_alibi_mat(32, 8)[1])\n",
    "# plt.colorbar()\n",
    "a, mask = get_alibi_mat(20, 10, attn_type='perceiver')\n",
    "plt.subplot(121); plt.imshow(a); plt.colorbar()\n",
    "plt.subplot(122); plt.imshow(mask); plt.colorbar()\n",
    "# get_alibi_mat(10, 5, attn_type='self-memory')"
   ]
  },
  {
   "cell_type": "code",
   "execution_count": null,
   "id": "ec13814a-13bc-4e2a-a46c-909bd59ca937",
   "metadata": {},
   "outputs": [],
   "source": []
  },
  {
   "cell_type": "code",
   "execution_count": null,
   "id": "ed014a49-bd83-4c9a-abf8-652f43ca1935",
   "metadata": {},
   "outputs": [],
   "source": []
  },
  {
   "cell_type": "code",
   "execution_count": null,
   "id": "f036ca24-443b-4261-83e3-edcd7f96d5b2",
   "metadata": {},
   "outputs": [],
   "source": []
  }
 ],
 "metadata": {
  "kernelspec": {
   "display_name": "Python 3 (ipykernel)",
   "language": "python",
   "name": "python3"
  },
  "language_info": {
   "codemirror_mode": {
    "name": "ipython",
    "version": 3
   },
   "file_extension": ".py",
   "mimetype": "text/x-python",
   "name": "python",
   "nbconvert_exporter": "python",
   "pygments_lexer": "ipython3",
   "version": "3.9.12"
  }
 },
 "nbformat": 4,
 "nbformat_minor": 5
}
