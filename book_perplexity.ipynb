{
 "cells": [
  {
   "cell_type": "code",
   "execution_count": 1,
   "id": "ba8a928d-b4ca-45cb-86c9-0b1db9da2e41",
   "metadata": {},
   "outputs": [],
   "source": [
    "%load_ext autoreload\n",
    "%autoreload 2"
   ]
  },
  {
   "cell_type": "code",
   "execution_count": 2,
   "id": "bc7a247b-ea4a-47a2-ad5f-247ea0faaf6f",
   "metadata": {},
   "outputs": [],
   "source": [
    "with open('book.txt') as f:\n",
    "    data = f.read()"
   ]
  },
  {
   "cell_type": "code",
   "execution_count": 3,
   "id": "9d5f94fb-87e1-41fc-a643-b505824606b3",
   "metadata": {},
   "outputs": [
    {
     "data": {
      "text/plain": [
       "79959"
      ]
     },
     "execution_count": 3,
     "metadata": {},
     "output_type": "execute_result"
    }
   ],
   "source": [
    "len(data)"
   ]
  },
  {
   "cell_type": "code",
   "execution_count": 4,
   "id": "10264128-5c7a-4f75-9b57-955fda847b24",
   "metadata": {},
   "outputs": [],
   "source": [
    "from tqdm.notebook import tqdm"
   ]
  },
  {
   "cell_type": "code",
   "execution_count": 5,
   "id": "4ae79537-af35-4d0a-a680-fff89bc59f80",
   "metadata": {},
   "outputs": [],
   "source": [
    "from transformers import GPT2Model, AutoTokenizer, AutoModelForCausalLM\n",
    "from memory_gpt2 import *"
   ]
  },
  {
   "cell_type": "code",
   "execution_count": 6,
   "id": "a0f21044-013f-41d8-aef4-5a0962110b51",
   "metadata": {},
   "outputs": [],
   "source": [
    "tokenizer = AutoTokenizer.from_pretrained(\"distilgpt2\")\n",
    "\n",
    "model = AutoModelForCausalLM.from_pretrained(\"distilgpt2\")"
   ]
  },
  {
   "cell_type": "code",
   "execution_count": 7,
   "id": "e235fc34-b3e3-4e43-a5cd-d5744d28f7c3",
   "metadata": {},
   "outputs": [
    {
     "name": "stderr",
     "output_type": "stream",
     "text": [
      "Token indices sequence length is longer than the specified maximum sequence length for this model (22205 > 1024). Running this sequence through the model will result in indexing errors\n"
     ]
    }
   ],
   "source": [
    "all_tokens = tokenizer.encode(data, return_tensors='pt')"
   ]
  },
  {
   "cell_type": "code",
   "execution_count": 10,
   "id": "4ce2fc55-08f2-4e81-9e7d-dc29ff2d2052",
   "metadata": {},
   "outputs": [],
   "source": [
    "device = torch.device('cuda' if torch.cuda.is_available() else 'cpu')"
   ]
  },
  {
   "cell_type": "code",
   "execution_count": 12,
   "id": "dccab91e-9032-4d87-9ea0-d23665f99c50",
   "metadata": {},
   "outputs": [],
   "source": [
    "model = model.to(device)"
   ]
  },
  {
   "cell_type": "code",
   "execution_count": 14,
   "id": "b8df8b50-ad8d-4973-8884-69aabb4c9255",
   "metadata": {},
   "outputs": [
    {
     "data": {
      "application/vnd.jupyter.widget-view+json": {
       "model_id": "04466c9482264e1ab39f3ac58bc88ee9",
       "version_major": 2,
       "version_minor": 0
      },
      "text/plain": [
       "  0%|          | 0/100 [00:00<?, ?it/s]"
      ]
     },
     "metadata": {},
     "output_type": "display_data"
    }
   ],
   "source": [
    "def calc_perplexity(model, all_tokens, context_length=100):\n",
    "    \n",
    "    losses = []\n",
    "    # for i in tqdm(range(context_length, all_tokens.shape[-1])):\n",
    "    for i in tqdm(range(context_length, context_length+100)):\n",
    "        x = all_tokens[:, max(i-context_length, 0):i]\n",
    "        x = x.to(device)\n",
    "        yp = model(input_ids=x, labels=x)\n",
    "        losses.append(yp.loss.item())\n",
    "    return losses\n",
    "    \n",
    "    \n",
    "losses = calc_perplexity(model, all_tokens, context_length=100)\n",
    "    \n"
   ]
  },
  {
   "cell_type": "code",
   "execution_count": 15,
   "id": "81fd689d-2c98-4cd8-a555-7b8416adf353",
   "metadata": {},
   "outputs": [],
   "source": [
    "import matplotlib.pyplot as plt"
   ]
  },
  {
   "cell_type": "code",
   "execution_count": 18,
   "id": "12b74d98-015a-42c3-a8cc-af9788d9b103",
   "metadata": {},
   "outputs": [
    {
     "data": {
      "text/plain": [
       "[<matplotlib.lines.Line2D at 0x7fc9c41a5ac0>]"
      ]
     },
     "execution_count": 18,
     "metadata": {},
     "output_type": "execute_result"
    },
    {
     "data": {
      "image/png": "[encoded data removed]",
      "text/plain": [
       "<Figure size 432x288 with 1 Axes>"
      ]
     },
     "metadata": {
      "needs_background": "light"
     },
     "output_type": "display_data"
    }
   ],
   "source": [
    "plt.plot(np.e**np.array(losses))"
   ]
  },
  {
   "cell_type": "code",
   "execution_count": 19,
   "id": "e3842ae0-0f05-481f-b082-54bff2f96626",
   "metadata": {},
   "outputs": [
    {
     "data": {
      "text/plain": [
       "1024"
      ]
     },
     "execution_count": 19,
     "metadata": {},
     "output_type": "execute_result"
    }
   ],
   "source": [
    "model.config.n_positions"
   ]
  },
  {
   "cell_type": "code",
   "execution_count": null,
   "id": "5739ed35-a0b3-4daa-9138-a94c821409eb",
   "metadata": {},
   "outputs": [],
   "source": []
  },
  {
   "cell_type": "code",
   "execution_count": 1,
   "id": "e7a7328d-613a-4240-8d9f-41e40948cd47",
   "metadata": {},
   "outputs": [],
   "source": [
    "# model.forward(input_ids=all_tokens[:, :100], labels=all_tokens[:, :100])"
   ]
  },
  {
   "cell_type": "code",
   "execution_count": null,
   "id": "cc797d27-7781-4684-9049-069c3877c15f",
   "metadata": {},
   "outputs": [],
   "source": [
    "model.forward()"
   ]
  },
  {
   "cell_type": "code",
   "execution_count": null,
   "id": "12c0267a-7270-4d72-9604-d5be337709bc",
   "metadata": {},
   "outputs": [],
   "source": []
  },
  {
   "cell_type": "code",
   "execution_count": null,
   "id": "e6921bf1-ccca-488f-b4bd-8e0ac6899758",
   "metadata": {},
   "outputs": [],
   "source": []
  },
  {
   "cell_type": "code",
   "execution_count": null,
   "id": "b885510a-c44a-41a0-8c7f-548abfba5227",
   "metadata": {},
   "outputs": [],
   "source": []
  },
  {
   "cell_type": "code",
   "execution_count": 53,
   "id": "a65c5f33-282f-482d-b4bc-5b57c6b10cee",
   "metadata": {},
   "outputs": [
    {
     "data": {
      "text/plain": [
       "torch.Size([1, 22205])"
      ]
     },
     "execution_count": 53,
     "metadata": {},
     "output_type": "execute_result"
    }
   ],
   "source": [
    "all_tokens.shape"
   ]
  },
  {
   "cell_type": "code",
   "execution_count": null,
   "id": "2175ed18-1280-42d1-ad59-27de3e5027e9",
   "metadata": {},
   "outputs": [],
   "source": []
  },
  {
   "cell_type": "code",
   "execution_count": null,
   "id": "93aaa986-67db-438c-a811-a12f1e4aaf84",
   "metadata": {},
   "outputs": [],
   "source": []
  },
  {
   "cell_type": "code",
   "execution_count": null,
   "id": "4ac016a3-1ff8-4332-aa96-cf748e99214f",
   "metadata": {},
   "outputs": [],
   "source": []
  },
  {
   "cell_type": "code",
   "execution_count": null,
   "id": "12bb6a78-9167-42eb-bbcb-fc815848b9f9",
   "metadata": {},
   "outputs": [],
   "source": []
  },
  {
   "cell_type": "code",
   "execution_count": null,
   "id": "23acd49a-d4b4-4d1c-b826-cfd3f3891dac",
   "metadata": {},
   "outputs": [],
   "source": []
  },
  {
   "cell_type": "code",
   "execution_count": null,
   "id": "d1c2e1cc-1531-40a6-b134-8cdc35021af4",
   "metadata": {},
   "outputs": [],
   "source": []
  },
  {
   "cell_type": "code",
   "execution_count": null,
   "id": "bb3c9593-2e78-4abf-bf22-2323bf745d67",
   "metadata": {},
   "outputs": [],
   "source": []
  },
  {
   "cell_type": "code",
   "execution_count": null,
   "id": "9371aa7e-2cc6-4b64-b2d6-3d69c84175db",
   "metadata": {},
   "outputs": [],
   "source": []
  },
  {
   "cell_type": "code",
   "execution_count": null,
   "id": "087bd59e-b99f-467f-b591-9ab3ac9c62b8",
   "metadata": {},
   "outputs": [],
   "source": []
  },
  {
   "cell_type": "code",
   "execution_count": null,
   "id": "d4ef7cbb-14c9-47e6-9678-9b162d96edec",
   "metadata": {},
   "outputs": [],
   "source": []
  }
 ],
 "metadata": {
  "kernelspec": {
   "display_name": "Python 3",
   "language": "python",
   "name": "python3"
  },
  "language_info": {
   "codemirror_mode": {
    "name": "ipython",
    "version": 3
   },
   "file_extension": ".py",
   "mimetype": "text/x-python",
   "name": "python",
   "nbconvert_exporter": "python",
   "pygments_lexer": "ipython3",
   "version": "3.8.5"
  }
 },
 "nbformat": 4,
 "nbformat_minor": 5
}
