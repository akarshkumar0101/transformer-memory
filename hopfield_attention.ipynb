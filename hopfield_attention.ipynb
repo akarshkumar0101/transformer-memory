{
 "cells": [
  {
   "cell_type": "code",
   "execution_count": 1,
   "id": "0f9c52b8-fb71-4983-8859-ab86575ec5fd",
   "metadata": {},
   "outputs": [
    {
     "data": {
      "text/plain": [
       "'/home/akarshkumar0101/miniconda3/bin/python'"
      ]
     },
     "execution_count": 1,
     "metadata": {},
     "output_type": "execute_result"
    }
   ],
   "source": [
    "import sys\n",
    "sys.executable"
   ]
  },
  {
   "cell_type": "code",
   "execution_count": 6,
   "id": "057735f0-6baa-4723-bf27-aca9cd536bed",
   "metadata": {},
   "outputs": [],
   "source": [
    "from hflayers import Hopfield\n",
    "\n",
    "beta = 2."
   ]
  },
  {
   "cell_type": "code",
   "execution_count": 11,
   "id": "695f9f1e-524d-47fa-b241-19bbe83013dd",
   "metadata": {},
   "outputs": [
    {
     "name": "stdout",
     "output_type": "stream",
     "text": [
      "Parameters:  0\n"
     ]
    }
   ],
   "source": [
    "hopfield = Hopfield(\n",
    "    scaling=beta,\n",
    "\n",
    "    # do not project layer input\n",
    "    state_pattern_as_static=True,\n",
    "    stored_pattern_as_static=True,\n",
    "    pattern_projection_as_static=True,\n",
    "\n",
    "    # do not pre-process layer input\n",
    "    normalize_stored_pattern=False,\n",
    "    normalize_stored_pattern_affine=False,\n",
    "    normalize_state_pattern=False,\n",
    "    normalize_state_pattern_affine=False,\n",
    "    normalize_pattern_projection=False,\n",
    "    normalize_pattern_projection_affine=False,\n",
    "\n",
    "    # do not post-process layer output\n",
    "    disable_out_projection=True)\n",
    "\n",
    "\n",
    "print(\"Parameters: \", np.sum([p.numel() for p in hopfield.parameters()], dtype=int))"
   ]
  },
  {
   "cell_type": "code",
   "execution_count": 20,
   "id": "636b3048-b99b-46b9-9f72-f1ce6c6508d1",
   "metadata": {},
   "outputs": [],
   "source": [
    "Y = torch.randn(2, 100, 512)\n",
    "R = torch.randn(2, 3, 512)"
   ]
  },
  {
   "cell_type": "code",
   "execution_count": 39,
   "id": "a6ccaba4-1b62-499d-879a-191ad7dfa048",
   "metadata": {},
   "outputs": [],
   "source": [
    "# tuple of stored_pattern, state_pattern, pattern_projection\n",
    "Z = hopfield.forward((Y, R, Y))"
   ]
  },
  {
   "cell_type": "code",
   "execution_count": null,
   "id": "33f813e9-609b-4da8-be49-e47c47dea148",
   "metadata": {},
   "outputs": [],
   "source": [
    "Zp = (beta*(R@Y.transpose(-1, -2))).softmax(dim=-1)@Y"
   ]
  },
  {
   "cell_type": "code",
   "execution_count": null,
   "id": "43c9c385-4e3b-4eba-a33d-aaba3595dd37",
   "metadata": {},
   "outputs": [],
   "source": []
  },
  {
   "cell_type": "code",
   "execution_count": 80,
   "id": "7dfd2096-7303-45f0-bdc0-31f1257a729d",
   "metadata": {},
   "outputs": [
    {
     "name": "stdout",
     "output_type": "stream",
     "text": [
      "Parameters:  1048576\n"
     ]
    }
   ],
   "source": [
    "net = torch.nn.MultiheadAttention(512, 1, bias=False, batch_first=True)\n",
    "print(\"Parameters: \", np.sum([p.numel() for p in net.parameters()], dtype=int))"
   ]
  },
  {
   "cell_type": "code",
   "execution_count": 58,
   "id": "e0f5a5ae-9b11-4564-89f2-16bdb349bc46",
   "metadata": {},
   "outputs": [
    {
     "data": {
      "text/plain": [
       "1048576"
      ]
     },
     "execution_count": 58,
     "metadata": {},
     "output_type": "execute_result"
    }
   ],
   "source": [
    "512*512*4"
   ]
  },
  {
   "cell_type": "code",
   "execution_count": 61,
   "id": "e47976c1-b47a-4b68-9088-0cd6d3c13368",
   "metadata": {},
   "outputs": [
    {
     "data": {
      "text/plain": [
       "[torch.Size([1536, 512]), torch.Size([512, 512])]"
      ]
     },
     "execution_count": 61,
     "metadata": {},
     "output_type": "execute_result"
    }
   ],
   "source": [
    "[p.shape for p in net.parameters()]"
   ]
  },
  {
   "cell_type": "code",
   "execution_count": 64,
   "id": "f16a2b3d-fbea-4988-b824-0f505dcac82b",
   "metadata": {},
   "outputs": [
    {
     "data": {
      "text/plain": [
       "MultiheadAttention(\n",
       "  (out_proj): NonDynamicallyQuantizableLinear(in_features=512, out_features=512, bias=False)\n",
       ")"
      ]
     },
     "execution_count": 64,
     "metadata": {},
     "output_type": "execute_result"
    }
   ],
   "source": [
    "net"
   ]
  },
  {
   "cell_type": "code",
   "execution_count": 71,
   "id": "fd750595-c256-4188-b2aa-7e90a66c35ee",
   "metadata": {},
   "outputs": [
    {
     "data": {
      "text/plain": [
       "[torch.Size([512, 512])]"
      ]
     },
     "execution_count": 71,
     "metadata": {},
     "output_type": "execute_result"
    }
   ],
   "source": [
    "[p.shape for p in net.out_proj.parameters()]"
   ]
  },
  {
   "cell_type": "code",
   "execution_count": 91,
   "id": "1cdf7e93-5a9f-4de9-b2f3-e2cd236c73d7",
   "metadata": {},
   "outputs": [
    {
     "data": {
      "text/plain": [
       "torch.Size([2, 3, 512])"
      ]
     },
     "execution_count": 91,
     "metadata": {},
     "output_type": "execute_result"
    }
   ],
   "source": [
    "Zattn, _ = net.forward(R, Y, Y)\n",
    "Zattn.shape"
   ]
  },
  {
   "cell_type": "code",
   "execution_count": 122,
   "id": "da317980-717e-432a-bee6-236a2412299e",
   "metadata": {},
   "outputs": [],
   "source": [
    "W1, W2 = list(net.parameters())\n",
    "Wq, Wk, Wv = W1.chunk(3, dim=0)\n",
    "Wq, Wk, Wv, W2 = Wq.T, Wk.T, Wv.T, W2.T\n",
    "\n",
    "Q = R@Wq\n",
    "K = Y@Wk\n",
    "V = Y@Wv\n"
   ]
  },
  {
   "cell_type": "code",
   "execution_count": 123,
   "id": "95ba6612-409e-4276-9d2e-311ae4e2fdb5",
   "metadata": {},
   "outputs": [],
   "source": [
    "Zmine = (Q@K.transpose(-1, -2)/np.sqrt(512)).softmax(dim=-1)@V@W2"
   ]
  },
  {
   "cell_type": "code",
   "execution_count": 127,
   "id": "f5987b79-a6a9-4df3-bc4f-69ab5b02977d",
   "metadata": {},
   "outputs": [
    {
     "data": {
      "text/plain": [
       "tensor(5.2154e-08, grad_fn=<MaxBackward1>)"
      ]
     },
     "execution_count": 127,
     "metadata": {},
     "output_type": "execute_result"
    }
   ],
   "source": [
    "(Zmine-Zattn).abs().max()"
   ]
  },
  {
   "cell_type": "code",
   "execution_count": 140,
   "id": "3c68bdb6-ee3a-460a-b62c-62bd1d215649",
   "metadata": {},
   "outputs": [],
   "source": [
    "hopfield = Hopfield(\n",
    "    scaling=float(1./np.sqrt(512)),\n",
    "\n",
    "    # do not project layer input\n",
    "    state_pattern_as_static=True,\n",
    "    stored_pattern_as_static=True,\n",
    "    pattern_projection_as_static=True,\n",
    "\n",
    "    # do not pre-process layer input\n",
    "    normalize_stored_pattern=False,\n",
    "    normalize_stored_pattern_affine=False,\n",
    "    normalize_state_pattern=False,\n",
    "    normalize_state_pattern_affine=False,\n",
    "    normalize_pattern_projection=False,\n",
    "    normalize_pattern_projection_affine=False,\n",
    "\n",
    "    # do not post-process layer output\n",
    "    disable_out_projection=True)\n",
    "\n",
    "Zhop = hopfield.forward((K, Q, V))@W2"
   ]
  },
  {
   "cell_type": "code",
   "execution_count": 142,
   "id": "680d3e46-fb70-4a0d-aadf-e7af7fe05dce",
   "metadata": {},
   "outputs": [
    {
     "data": {
      "text/plain": [
       "tensor(3.7253e-08, grad_fn=<MaxBackward1>)"
      ]
     },
     "execution_count": 142,
     "metadata": {},
     "output_type": "execute_result"
    }
   ],
   "source": [
    "(Zhop-Zmine).abs().max()"
   ]
  },
  {
   "cell_type": "code",
   "execution_count": null,
   "id": "d020e36d-eb07-474a-ae29-3d184cb78dc1",
   "metadata": {},
   "outputs": [],
   "source": []
  },
  {
   "cell_type": "code",
   "execution_count": null,
   "id": "213302f5-8d85-48cc-9327-099b0284b392",
   "metadata": {},
   "outputs": [],
   "source": []
  },
  {
   "cell_type": "code",
   "execution_count": null,
   "id": "82e062da-acf7-40ee-9e01-7a6b37d69996",
   "metadata": {},
   "outputs": [],
   "source": []
  },
  {
   "cell_type": "code",
   "execution_count": null,
   "id": "fc7b3b99-ab2d-4bc1-8324-05c904a24ce8",
   "metadata": {},
   "outputs": [],
   "source": []
  },
  {
   "cell_type": "code",
   "execution_count": null,
   "id": "8d2e5d07-4c4a-4154-9725-eb55a2f67298",
   "metadata": {},
   "outputs": [],
   "source": []
  },
  {
   "cell_type": "code",
   "execution_count": null,
   "id": "61dcbc19-0caf-484d-9653-a386eb465a3f",
   "metadata": {},
   "outputs": [],
   "source": []
  },
  {
   "cell_type": "code",
   "execution_count": null,
   "id": "d75efde5-0fca-44aa-900c-74d533d6f97a",
   "metadata": {},
   "outputs": [],
   "source": []
  },
  {
   "cell_type": "code",
   "execution_count": null,
   "id": "35735b21-c7c0-41d6-a8f1-504b767fbef7",
   "metadata": {},
   "outputs": [],
   "source": []
  },
  {
   "cell_type": "code",
   "execution_count": null,
   "id": "f2c3987f-1b91-42e5-bcf3-fe3eb005a417",
   "metadata": {},
   "outputs": [],
   "source": []
  }
 ],
 "metadata": {
  "kernelspec": {
   "display_name": "Python 3",
   "language": "python",
   "name": "python3"
  },
  "language_info": {
   "codemirror_mode": {
    "name": "ipython",
    "version": 3
   },
   "file_extension": ".py",
   "mimetype": "text/x-python",
   "name": "python",
   "nbconvert_exporter": "python",
   "pygments_lexer": "ipython3",
   "version": "3.8.5"
  }
 },
 "nbformat": 4,
 "nbformat_minor": 5
}
